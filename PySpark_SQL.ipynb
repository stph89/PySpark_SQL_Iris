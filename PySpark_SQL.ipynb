{
 "cells": [
  {
   "cell_type": "markdown",
   "id": "f5c8d820-a14e-4cce-be10-2ec5132dae3a",
   "metadata": {},
   "source": [
    "# PySpark SQL\n",
    "Crear un entorno virtual o instalar las librerías en el entorno base"
   ]
  },
  {
   "cell_type": "markdown",
   "id": "2a14bb4a-8365-46e6-aed0-1d813deb3a3f",
   "metadata": {},
   "source": [
    "#### Install OpenJDK 11\n",
    "conda install openjdk\n",
    "#### brew install openjdk\n",
    "\n",
    "#### Install PySpark using Conda\n",
    "conda install pyspark\n",
    "\n",
    "#### In order to run PySpark in Jupyter notebook first, you need to find the PySpark Install\n",
    "conda install -c conda-forge findspark\n",
    "\n",
    "\n",
    "Thanks to PySpark Documentation : https://sparkbyexamples.com/pyspark/install-pyspark-in-anaconda-jupyter-notebook/"
   ]
  },
  {
   "cell_type": "markdown",
   "id": "90ee5467-eb08-4f8d-8c28-0d460db84df5",
   "metadata": {},
   "source": [
    "> * Una vez tenemos instalado pyspark, java y jupyter-lab en nuestro entorno de trabajo con conda.\n",
    "> * Corremos el siguiente comando para solucionar errores de activación dl pyspark en el jupyter"
   ]
  },
  {
   "cell_type": "code",
   "execution_count": 59,
   "id": "3ed4bb06-0829-4f3a-8014-7e050f8cd633",
   "metadata": {
    "tags": []
   },
   "outputs": [
    {
     "data": {
      "text/plain": [
       "'/usr/local/opt/apache-spark/libexec'"
      ]
     },
     "execution_count": 59,
     "metadata": {},
     "output_type": "execute_result"
    }
   ],
   "source": [
    "#import findspark\n",
    "\n",
    "#findspark.init()\n",
    "#findspark.find()\n"
   ]
  },
  {
   "cell_type": "code",
   "execution_count": 61,
   "id": "c73f3242-5d7e-4fe5-ab54-0201451f953a",
   "metadata": {
    "tags": []
   },
   "outputs": [],
   "source": [
    "# Import PySpark\n",
    "from pyspark.sql import SparkSession\n"
   ]
  },
  {
   "cell_type": "code",
   "execution_count": 71,
   "id": "51193ed8-40d5-4f32-8c4e-f5a87f468401",
   "metadata": {
    "tags": []
   },
   "outputs": [],
   "source": [
    "#Se importan todos los modulos de sql de pyspark\n",
    "from pyspark.sql import *"
   ]
  },
  {
   "cell_type": "code",
   "execution_count": 62,
   "id": "4fc0fbcb-fefd-4a63-a6c6-e2cd07849b28",
   "metadata": {
    "tags": []
   },
   "outputs": [
    {
     "name": "stdout",
     "output_type": "stream",
     "text": [
      "23/02/21 13:34:58 WARN SparkSession: Using an existing Spark session; only runtime SQL configurations will take effect.\n"
     ]
    }
   ],
   "source": [
    "# Create SparkSession\n",
    "import pyspark\n",
    "from pyspark.sql import SparkSession"
   ]
  },
  {
   "cell_type": "markdown",
   "id": "c1d31bde-a9de-481a-a312-fee87e20a99d",
   "metadata": {},
   "source": [
    "# Create DataFrames"
   ]
  },
  {
   "cell_type": "code",
   "execution_count": 66,
   "id": "95273cae-a14f-4b08-b2d9-08fed444d4f5",
   "metadata": {
    "tags": []
   },
   "outputs": [
    {
     "name": "stdout",
     "output_type": "stream",
     "text": [
      "23/02/21 13:35:22 WARN SparkSession: Using an existing Spark session; only runtime SQL configurations will take effect.\n",
      "root\n",
      " |-- emp_id: long (nullable = true)\n",
      " |-- name: string (nullable = true)\n",
      " |-- superior_emp_id: long (nullable = true)\n",
      " |-- year_joined: string (nullable = true)\n",
      " |-- emp_dept_id: string (nullable = true)\n",
      " |-- gender: string (nullable = true)\n",
      " |-- salary: long (nullable = true)\n",
      "\n"
     ]
    },
    {
     "name": "stderr",
     "output_type": "stream",
     "text": [
      "                                                                                \r"
     ]
    },
    {
     "name": "stdout",
     "output_type": "stream",
     "text": [
      "+------+--------+---------------+-----------+-----------+------+------+\n",
      "|emp_id|name    |superior_emp_id|year_joined|emp_dept_id|gender|salary|\n",
      "+------+--------+---------------+-----------+-----------+------+------+\n",
      "|1     |Smith   |-1             |2018       |10         |M     |3000  |\n",
      "|2     |Rose    |1              |2010       |20         |M     |4000  |\n",
      "|3     |Williams|1              |2010       |10         |M     |1000  |\n",
      "|4     |Jones   |2              |2005       |10         |F     |2000  |\n",
      "|5     |Brown   |2              |2010       |40         |      |-1    |\n",
      "|6     |Brown   |2              |2010       |50         |      |-1    |\n",
      "+------+--------+---------------+-----------+-----------+------+------+\n",
      "\n",
      "root\n",
      " |-- dept_name: string (nullable = true)\n",
      " |-- dept_id: long (nullable = true)\n",
      "\n"
     ]
    },
    {
     "name": "stderr",
     "output_type": "stream",
     "text": [
      "[Stage 11:>                                                         (0 + 3) / 3]\r"
     ]
    },
    {
     "name": "stdout",
     "output_type": "stream",
     "text": [
      "+---------+-------+\n",
      "|dept_name|dept_id|\n",
      "+---------+-------+\n",
      "|Finance  |10     |\n",
      "|Marketing|20     |\n",
      "|Sales    |30     |\n",
      "|IT       |40     |\n",
      "+---------+-------+\n",
      "\n"
     ]
    },
    {
     "name": "stderr",
     "output_type": "stream",
     "text": [
      "                                                                                \r"
     ]
    }
   ],
   "source": [
    "#First: Create two DataFrames to make join operations\n",
    "\n",
    "spark = SparkSession.builder.appName(\"sparkbyexamples.com\").getOrCreate()\n",
    "\n",
    "emp = [(1,\"Smith\",-1,\"2018\",\"10\",\"M\",3000), \\\n",
    "    (2,\"Rose\",1,\"2010\",\"20\",\"M\",4000), \\\n",
    "    (3,\"Williams\",1,\"2010\",\"10\",\"M\",1000), \\\n",
    "    (4,\"Jones\",2,\"2005\",\"10\",\"F\",2000), \\\n",
    "    (5,\"Brown\",2,\"2010\",\"40\",\"\",-1), \\\n",
    "      (6,\"Brown\",2,\"2010\",\"50\",\"\",-1) \\\n",
    "  ]\n",
    "empColumns = [\"emp_id\",\"name\",\"superior_emp_id\",\"year_joined\", \\\n",
    "       \"emp_dept_id\",\"gender\",\"salary\"]\n",
    "\n",
    "#Crea \n",
    "empDF = spark.createDataFrame(data=emp, schema = empColumns)\n",
    "empDF.printSchema() #This prints emp DataFrame to console.\n",
    "empDF.show(truncate=False)\n",
    "\n",
    "dept = [(\"Finance\",10), \\\n",
    "    (\"Marketing\",20), \\\n",
    "    (\"Sales\",30), \\\n",
    "    (\"IT\",40) \\\n",
    "  ]\n",
    "deptColumns = [\"dept_name\",\"dept_id\"]\n",
    "deptDF = spark.createDataFrame(data=dept, schema = deptColumns)\n",
    "deptDF.printSchema()#This prints dept DataFrame to console.\n",
    "deptDF.show(truncate=False)\n"
   ]
  },
  {
   "cell_type": "code",
   "execution_count": 68,
   "id": "4ededa5b-a413-4e06-8e6c-bd859fdacc71",
   "metadata": {
    "tags": []
   },
   "outputs": [
    {
     "name": "stderr",
     "output_type": "stream",
     "text": [
      "[Stage 13:>                                                         (0 + 3) / 3]\r"
     ]
    },
    {
     "name": "stdout",
     "output_type": "stream",
     "text": [
      "+--------+\n",
      "|    name|\n",
      "+--------+\n",
      "|   Smith|\n",
      "|    Rose|\n",
      "|Williams|\n",
      "|   Jones|\n",
      "|   Brown|\n",
      "|   Brown|\n",
      "+--------+\n",
      "\n"
     ]
    },
    {
     "name": "stderr",
     "output_type": "stream",
     "text": [
      "                                                                                \r"
     ]
    }
   ],
   "source": [
    "empDF.select(\"name\").show()"
   ]
  },
  {
   "attachments": {
    "57d6ca33-ef7e-4734-b5d1-e92cf5e092aa.png": {
     "image/png": "[encoded data removed]"
    }
   },
   "cell_type": "markdown",
   "id": "27298962-830e-47e9-b240-2cec88ea9b58",
   "metadata": {
    "tags": []
   },
   "source": [
    "### PySpark DataFrame Join Type\n",
    "![Captura de Pantalla 2023-02-21 a las 15.58.01.png](attachment:57d6ca33-ef7e-4734-b5d1-e92cf5e092aa.png)\n",
    "\n"
   ]
  },
  {
   "cell_type": "markdown",
   "id": "6171619a-5628-4a77-8bbc-7d3c198220c2",
   "metadata": {},
   "source": [
    " #### `Inner join`\n",
    " * is the default join and it’s mostly used, this joins two DataFrames on key columns,\n",
    " * where keys don’t match the rows get dropped from both datasets (emp & dept).\n",
    " * To do an `inner` join on two PySpark DataFrame you should use inner as join type.\n",
    "\n",
    "**Note**: Be sure to import all modules from pyspark.sql\n",
    "`from pyspark.sql import *`"
   ]
  },
  {
   "cell_type": "code",
   "execution_count": 111,
   "id": "edd9c0ad-b6a3-464d-81ec-0fcb78b41884",
   "metadata": {
    "tags": []
   },
   "outputs": [
    {
     "name": "stderr",
     "output_type": "stream",
     "text": [
      "[Stage 174:>                                                        (0 + 4) / 4]\r"
     ]
    },
    {
     "name": "stdout",
     "output_type": "stream",
     "text": [
      "+------+--------+---------------+-----------+-----------+------+------+---------+-------+\n",
      "|emp_id|name    |superior_emp_id|year_joined|emp_dept_id|gender|salary|dept_name|dept_id|\n",
      "+------+--------+---------------+-----------+-----------+------+------+---------+-------+\n",
      "|1     |Smith   |-1             |2018       |10         |M     |3000  |Finance  |10     |\n",
      "|3     |Williams|1              |2010       |10         |M     |1000  |Finance  |10     |\n",
      "|4     |Jones   |2              |2005       |10         |F     |2000  |Finance  |10     |\n",
      "|2     |Rose    |1              |2010       |20         |M     |4000  |Marketing|20     |\n",
      "|5     |Brown   |2              |2010       |40         |      |-1    |IT       |40     |\n",
      "+------+--------+---------------+-----------+-----------+------+------+---------+-------+\n",
      "\n"
     ]
    },
    {
     "name": "stderr",
     "output_type": "stream",
     "text": [
      "                                                                                \r"
     ]
    }
   ],
   "source": [
    "# Inner join\n",
    "empDF.join(deptDF,empDF.emp_dept_id ==  deptDF.dept_id,\"inner\") \\\n",
    "     .show(truncate=False)"
   ]
  },
  {
   "cell_type": "code",
   "execution_count": 104,
   "id": "a710aba4-cae5-4616-8922-d4da5e332868",
   "metadata": {
    "tags": []
   },
   "outputs": [
    {
     "data": {
      "text/plain": [
       "DataFrame[emp_id: bigint, name: string, superior_emp_id: bigint, year_joined: string, emp_dept_id: string, gender: string, salary: bigint, dept_name: string, dept_id: bigint]"
      ]
     },
     "execution_count": 104,
     "metadata": {},
     "output_type": "execute_result"
    }
   ],
   "source": [
    "inner_df = empDF.join(deptDF,empDF.emp_dept_id ==  deptDF.dept_id,\"inner\")\n",
    "inner_df"
   ]
  },
  {
   "cell_type": "markdown",
   "id": "2124bee8-ddeb-402c-85bb-39e8357ec842",
   "metadata": {},
   "source": [
    "#### `Outer join`\n",
    " * This join returns **all rows** from both datasets\n",
    " * where join expression doesn't match it returns null on respective columns. \n",
    "\n",
    "**Note**: Be sure to import all modules from pyspark.sql\n",
    "`from pyspark.sql import *`"
   ]
  },
  {
   "cell_type": "code",
   "execution_count": 86,
   "id": "03c44114-9edf-43cd-a1c6-e98a84118244",
   "metadata": {
    "tags": []
   },
   "outputs": [
    {
     "name": "stderr",
     "output_type": "stream",
     "text": [
      "[Stage 45:===========================================>              (3 + 1) / 4]\r"
     ]
    },
    {
     "name": "stdout",
     "output_type": "stream",
     "text": [
      "+------+--------+---------------+-----------+-----------+------+------+---------+-------+\n",
      "|emp_id|name    |superior_emp_id|year_joined|emp_dept_id|gender|salary|dept_name|dept_id|\n",
      "+------+--------+---------------+-----------+-----------+------+------+---------+-------+\n",
      "|1     |Smith   |-1             |2018       |10         |M     |3000  |Finance  |10     |\n",
      "|3     |Williams|1              |2010       |10         |M     |1000  |Finance  |10     |\n",
      "|4     |Jones   |2              |2005       |10         |F     |2000  |Finance  |10     |\n",
      "|2     |Rose    |1              |2010       |20         |M     |4000  |Marketing|20     |\n",
      "|null  |null    |null           |null       |null       |null  |null  |Sales    |30     |\n",
      "|5     |Brown   |2              |2010       |40         |      |-1    |IT       |40     |\n",
      "|6     |Brown   |2              |2010       |50         |      |-1    |null     |null   |\n",
      "+------+--------+---------------+-----------+-----------+------+------+---------+-------+\n",
      "\n"
     ]
    },
    {
     "name": "stderr",
     "output_type": "stream",
     "text": [
      "                                                                                \r"
     ]
    }
   ],
   "source": [
    "# Outer join\n",
    "empDF.join(deptDF,empDF.emp_dept_id == deptDF.dept_id,\"outer\") \\\n",
    "    .show(truncate=False)"
   ]
  },
  {
   "cell_type": "code",
   "execution_count": 84,
   "id": "cdb8e5b1-736f-49e3-ad20-8d749c921a41",
   "metadata": {
    "tags": []
   },
   "outputs": [
    {
     "name": "stderr",
     "output_type": "stream",
     "text": [
      "[Stage 40:===========================================>              (3 + 1) / 4]\r"
     ]
    },
    {
     "name": "stdout",
     "output_type": "stream",
     "text": [
      "+------+--------+---------------+-----------+-----------+------+------+---------+-------+\n",
      "|emp_id|name    |superior_emp_id|year_joined|emp_dept_id|gender|salary|dept_name|dept_id|\n",
      "+------+--------+---------------+-----------+-----------+------+------+---------+-------+\n",
      "|1     |Smith   |-1             |2018       |10         |M     |3000  |Finance  |10     |\n",
      "|3     |Williams|1              |2010       |10         |M     |1000  |Finance  |10     |\n",
      "|4     |Jones   |2              |2005       |10         |F     |2000  |Finance  |10     |\n",
      "|2     |Rose    |1              |2010       |20         |M     |4000  |Marketing|20     |\n",
      "|null  |null    |null           |null       |null       |null  |null  |Sales    |30     |\n",
      "|5     |Brown   |2              |2010       |40         |      |-1    |IT       |40     |\n",
      "|6     |Brown   |2              |2010       |50         |      |-1    |null     |null   |\n",
      "+------+--------+---------------+-----------+-----------+------+------+---------+-------+\n",
      "\n"
     ]
    },
    {
     "name": "stderr",
     "output_type": "stream",
     "text": [
      "                                                                                \r"
     ]
    }
   ],
   "source": [
    "# Full join\n",
    "empDF.join(deptDF,empDF.emp_dept_id == deptDF.dept_id,\"full\") \\\n",
    "        .show(truncate=False)"
   ]
  },
  {
   "cell_type": "code",
   "execution_count": 87,
   "id": "47fa9b3b-f5cf-4d95-8478-37844453979a",
   "metadata": {
    "tags": []
   },
   "outputs": [
    {
     "name": "stderr",
     "output_type": "stream",
     "text": [
      "[Stage 50:=============================>                            (2 + 2) / 4]\r"
     ]
    },
    {
     "name": "stdout",
     "output_type": "stream",
     "text": [
      "+------+--------+---------------+-----------+-----------+------+------+---------+-------+\n",
      "|emp_id|name    |superior_emp_id|year_joined|emp_dept_id|gender|salary|dept_name|dept_id|\n",
      "+------+--------+---------------+-----------+-----------+------+------+---------+-------+\n",
      "|1     |Smith   |-1             |2018       |10         |M     |3000  |Finance  |10     |\n",
      "|3     |Williams|1              |2010       |10         |M     |1000  |Finance  |10     |\n",
      "|4     |Jones   |2              |2005       |10         |F     |2000  |Finance  |10     |\n",
      "|2     |Rose    |1              |2010       |20         |M     |4000  |Marketing|20     |\n",
      "|null  |null    |null           |null       |null       |null  |null  |Sales    |30     |\n",
      "|5     |Brown   |2              |2010       |40         |      |-1    |IT       |40     |\n",
      "|6     |Brown   |2              |2010       |50         |      |-1    |null     |null   |\n",
      "+------+--------+---------------+-----------+-----------+------+------+---------+-------+\n",
      "\n"
     ]
    },
    {
     "name": "stderr",
     "output_type": "stream",
     "text": [
      "                                                                                \r"
     ]
    }
   ],
   "source": [
    "#Full Outer\n",
    "empDF.join(deptDF,empDF.emp_dept_id == deptDF.dept_id,\"fullouter\")\\\n",
    "    .show(truncate=False)\n"
   ]
  },
  {
   "cell_type": "code",
   "execution_count": 93,
   "id": "f521adc1-2fd6-4642-a511-0995b8df510a",
   "metadata": {
    "tags": []
   },
   "outputs": [
    {
     "data": {
      "text/plain": [
       "DataFrame[emp_id: bigint, name: string, superior_emp_id: bigint, year_joined: string, emp_dept_id: string, gender: string, salary: bigint, dept_name: string, dept_id: bigint]"
      ]
     },
     "execution_count": 93,
     "metadata": {},
     "output_type": "execute_result"
    }
   ],
   "source": [
    "#Guardo este ultimo join en un DataFrame\n",
    "df3 = empDF.join(deptDF,empDF.emp_dept_id == deptDF.dept_id,\"fullouter\")\n",
    "df3"
   ]
  },
  {
   "cell_type": "markdown",
   "id": "ce875b73-0314-4cbc-ba56-a67274c9722f",
   "metadata": {},
   "source": [
    "#### `semi join` `leftsemi` `left_semi`\n",
    " * This join is similar to `inner`\n",
    " * `leftsemi` join returns all columns from the left dataset and ignores all columns from the right dataset. \n",
    " * This join returns columns from the only left dataset for the records match in the right dataset on join expression\n",
    " * Records not matched on join expression are ignored from both left and right datasets. \n",
    "\n",
    "**Note**: The same result can be achieved using select on the result of the inner join however, using this join would be efficient. "
   ]
  },
  {
   "cell_type": "code",
   "execution_count": 112,
   "id": "0ff235c3-cb4b-45ce-8e04-2d471d40dade",
   "metadata": {
    "tags": []
   },
   "outputs": [
    {
     "name": "stderr",
     "output_type": "stream",
     "text": [
      "[Stage 179:>                                                        (0 + 4) / 4]\r"
     ]
    },
    {
     "name": "stdout",
     "output_type": "stream",
     "text": [
      "+------+--------+---------------+-----------+-----------+------+------+\n",
      "|emp_id|name    |superior_emp_id|year_joined|emp_dept_id|gender|salary|\n",
      "+------+--------+---------------+-----------+-----------+------+------+\n",
      "|1     |Smith   |-1             |2018       |10         |M     |3000  |\n",
      "|3     |Williams|1              |2010       |10         |M     |1000  |\n",
      "|4     |Jones   |2              |2005       |10         |F     |2000  |\n",
      "|2     |Rose    |1              |2010       |20         |M     |4000  |\n",
      "|5     |Brown   |2              |2010       |40         |      |-1    |\n",
      "+------+--------+---------------+-----------+-----------+------+------+\n",
      "\n"
     ]
    },
    {
     "name": "stderr",
     "output_type": "stream",
     "text": [
      "                                                                                \r"
     ]
    }
   ],
   "source": [
    "empDF.join(deptDF,empDF.emp_dept_id ==  deptDF.dept_id,\"leftsemi\") \\\n",
    "   .show(truncate=False)"
   ]
  },
  {
   "cell_type": "markdown",
   "id": "947dab95-10a5-4aad-959e-c84148e86bf4",
   "metadata": {},
   "source": [
    "#### `anti join` `leftanti` `left_anti`\n",
    " * `leftanti` join does the exact opposite of the `leftsemi`\n",
    " * `leftanti` join returns only columns from the left dataset for non-matched records. "
   ]
  },
  {
   "cell_type": "code",
   "execution_count": 113,
   "id": "c5a6dbe1-ba8f-4ab1-a778-b20bd8e01451",
   "metadata": {
    "tags": []
   },
   "outputs": [
    {
     "name": "stderr",
     "output_type": "stream",
     "text": [
      "[Stage 184:>                                                        (0 + 4) / 4]\r"
     ]
    },
    {
     "name": "stdout",
     "output_type": "stream",
     "text": [
      "+------+-----+---------------+-----------+-----------+------+------+\n",
      "|emp_id|name |superior_emp_id|year_joined|emp_dept_id|gender|salary|\n",
      "+------+-----+---------------+-----------+-----------+------+------+\n",
      "|6     |Brown|2              |2010       |50         |      |-1    |\n",
      "+------+-----+---------------+-----------+-----------+------+------+\n",
      "\n"
     ]
    },
    {
     "name": "stderr",
     "output_type": "stream",
     "text": [
      "                                                                                \r"
     ]
    }
   ],
   "source": [
    "empDF.join(deptDF,empDF.emp_dept_id ==  deptDF.dept_id,\"leftanti\") \\\n",
    "   .show(truncate=False)"
   ]
  },
  {
   "cell_type": "markdown",
   "id": "776de58e-34db-43fd-beb6-ca2999767916",
   "metadata": {},
   "source": [
    "# PySpark Self Join"
   ]
  },
  {
   "cell_type": "markdown",
   "id": "3bf04074-8cb9-4537-873b-88916f4fdbe7",
   "metadata": {},
   "source": [
    "* **Joins** are not complete without a `self join`.\n",
    "* Though there is no self-join type available, we can use any of the above-explained join types to join DataFrame to itself. \n"
   ]
  },
  {
   "cell_type": "code",
   "execution_count": 115,
   "id": "132fa4f9-500f-46bd-b8ca-03fd6ee7d2f6",
   "metadata": {
    "tags": []
   },
   "outputs": [],
   "source": [
    "from pyspark.sql import Column"
   ]
  },
  {
   "cell_type": "code",
   "execution_count": 117,
   "id": "4e2b8a73-27d1-4b96-bdfb-ca3456c1167d",
   "metadata": {
    "tags": []
   },
   "outputs": [
    {
     "ename": "NameError",
     "evalue": "name 'col' is not defined",
     "output_type": "error",
     "traceback": [
      "\u001b[0;31m---------------------------------------------------------------------------\u001b[0m",
      "\u001b[0;31mNameError\u001b[0m                                 Traceback (most recent call last)",
      "Cell \u001b[0;32mIn[117], line 2\u001b[0m\n\u001b[1;32m      1\u001b[0m empDF\u001b[38;5;241m.\u001b[39malias(\u001b[38;5;124m\"\u001b[39m\u001b[38;5;124memp1\u001b[39m\u001b[38;5;124m\"\u001b[39m)\u001b[38;5;241m.\u001b[39mjoin(empDF\u001b[38;5;241m.\u001b[39malias(\u001b[38;5;124m\"\u001b[39m\u001b[38;5;124memp2\u001b[39m\u001b[38;5;124m\"\u001b[39m), \\\n\u001b[0;32m----> 2\u001b[0m     \u001b[43mcol\u001b[49m(\u001b[38;5;124m\"\u001b[39m\u001b[38;5;124memp1.superior_emp_id\u001b[39m\u001b[38;5;124m\"\u001b[39m) \u001b[38;5;241m==\u001b[39m col(\u001b[38;5;124m\"\u001b[39m\u001b[38;5;124memp2.emp_id\u001b[39m\u001b[38;5;124m\"\u001b[39m),\u001b[38;5;124m\"\u001b[39m\u001b[38;5;124minner\u001b[39m\u001b[38;5;124m\"\u001b[39m) \\\n\u001b[1;32m      3\u001b[0m     \u001b[38;5;241m.\u001b[39mselect(col(\u001b[38;5;124m\"\u001b[39m\u001b[38;5;124memp1.emp_id\u001b[39m\u001b[38;5;124m\"\u001b[39m),col(\u001b[38;5;124m\"\u001b[39m\u001b[38;5;124memp1.name\u001b[39m\u001b[38;5;124m\"\u001b[39m), \\\n\u001b[1;32m      4\u001b[0m       col(\u001b[38;5;124m\"\u001b[39m\u001b[38;5;124memp2.emp_id\u001b[39m\u001b[38;5;124m\"\u001b[39m)\u001b[38;5;241m.\u001b[39malias(\u001b[38;5;124m\"\u001b[39m\u001b[38;5;124msuperior_emp_id\u001b[39m\u001b[38;5;124m\"\u001b[39m), \\\n\u001b[1;32m      5\u001b[0m       col(\u001b[38;5;124m\"\u001b[39m\u001b[38;5;124memp2.name\u001b[39m\u001b[38;5;124m\"\u001b[39m)\u001b[38;5;241m.\u001b[39malias(\u001b[38;5;124m\"\u001b[39m\u001b[38;5;124msuperior_emp_name\u001b[39m\u001b[38;5;124m\"\u001b[39m)) \\\n\u001b[1;32m      6\u001b[0m    \u001b[38;5;241m.\u001b[39mshow(truncate\u001b[38;5;241m=\u001b[39m\u001b[38;5;28;01mFalse\u001b[39;00m)\n",
      "\u001b[0;31mNameError\u001b[0m: name 'col' is not defined"
     ]
    }
   ],
   "source": [
    "\n",
    "empDF.alias(\"emp1\").join(empDF.alias(\"emp2\"), \\\n",
    "    col(\"emp1.superior_emp_id\") == col(\"emp2.emp_id\"),\"inner\") \\\n",
    "    .select(col(\"emp1.emp_id\"),col(\"emp1.name\"), \\\n",
    "      col(\"emp2.emp_id\").alias(\"superior_emp_id\"), \\\n",
    "      col(\"emp2.name\").alias(\"superior_emp_name\")) \\\n",
    "   .show(truncate=False)"
   ]
  },
  {
   "cell_type": "markdown",
   "id": "357c783b-8a7a-4da0-b77d-768e5b785b59",
   "metadata": {},
   "source": [
    "# SQL Traditional Sentences\n",
    "* Since **PySpark SQL** support **native SQL** syntax, we can also write join operations after creating temporary tables on DataFrames.\n",
    "* These temporary tables are created by `name_table.createOrReplaceTempView(\"name_temporary_table\")`\n",
    "* We can use these tables on `spark.sql()`."
   ]
  },
  {
   "cell_type": "code",
   "execution_count": 118,
   "id": "aa96d9d1-cb95-4cfb-8bca-0c079e62e03d",
   "metadata": {
    "tags": []
   },
   "outputs": [
    {
     "name": "stderr",
     "output_type": "stream",
     "text": [
      "                                                                                \r"
     ]
    },
    {
     "name": "stdout",
     "output_type": "stream",
     "text": [
      "+------+--------+---------------+-----------+-----------+------+------+---------+-------+\n",
      "|emp_id|name    |superior_emp_id|year_joined|emp_dept_id|gender|salary|dept_name|dept_id|\n",
      "+------+--------+---------------+-----------+-----------+------+------+---------+-------+\n",
      "|1     |Smith   |-1             |2018       |10         |M     |3000  |Finance  |10     |\n",
      "|3     |Williams|1              |2010       |10         |M     |1000  |Finance  |10     |\n",
      "|4     |Jones   |2              |2005       |10         |F     |2000  |Finance  |10     |\n",
      "|2     |Rose    |1              |2010       |20         |M     |4000  |Marketing|20     |\n",
      "|5     |Brown   |2              |2010       |40         |      |-1    |IT       |40     |\n",
      "+------+--------+---------------+-----------+-----------+------+------+---------+-------+\n",
      "\n"
     ]
    },
    {
     "name": "stderr",
     "output_type": "stream",
     "text": [
      "[Stage 195:>                                                        (0 + 4) / 4]\r"
     ]
    },
    {
     "name": "stdout",
     "output_type": "stream",
     "text": [
      "+------+--------+---------------+-----------+-----------+------+------+---------+-------+\n",
      "|emp_id|name    |superior_emp_id|year_joined|emp_dept_id|gender|salary|dept_name|dept_id|\n",
      "+------+--------+---------------+-----------+-----------+------+------+---------+-------+\n",
      "|1     |Smith   |-1             |2018       |10         |M     |3000  |Finance  |10     |\n",
      "|3     |Williams|1              |2010       |10         |M     |1000  |Finance  |10     |\n",
      "|4     |Jones   |2              |2005       |10         |F     |2000  |Finance  |10     |\n",
      "|2     |Rose    |1              |2010       |20         |M     |4000  |Marketing|20     |\n",
      "|5     |Brown   |2              |2010       |40         |      |-1    |IT       |40     |\n",
      "+------+--------+---------------+-----------+-----------+------+------+---------+-------+\n",
      "\n"
     ]
    },
    {
     "name": "stderr",
     "output_type": "stream",
     "text": [
      "                                                                                \r"
     ]
    }
   ],
   "source": [
    "empDF.createOrReplaceTempView(\"EMP\")\n",
    "deptDF.createOrReplaceTempView(\"DEPT\")\n",
    "\n",
    "joinDF = spark.sql(\"select * from EMP e, DEPT d where e.emp_dept_id == d.dept_id\") \\\n",
    "  .show(truncate=False)\n",
    "\n",
    "joinDF2 = spark.sql(\"select * from EMP e INNER JOIN DEPT d ON e.emp_dept_id == d.dept_id\") \\\n",
    "  .show(truncate=False)"
   ]
  },
  {
   "cell_type": "code",
   "execution_count": 91,
   "id": "3b7569d0-65f2-4c6e-ba0c-9ef8a044d057",
   "metadata": {
    "tags": []
   },
   "outputs": [
    {
     "name": "stderr",
     "output_type": "stream",
     "text": [
      "                                                                                \r"
     ]
    },
    {
     "data": {
      "text/plain": [
       "[Row(emp_id=1, name='Smith', superior_emp_id=-1, year_joined='2018', emp_dept_id='10', gender='M', salary=3000),\n",
       " Row(emp_id=2, name='Rose', superior_emp_id=1, year_joined='2010', emp_dept_id='20', gender='M', salary=4000),\n",
       " Row(emp_id=3, name='Williams', superior_emp_id=1, year_joined='2010', emp_dept_id='10', gender='M', salary=1000),\n",
       " Row(emp_id=4, name='Jones', superior_emp_id=2, year_joined='2005', emp_dept_id='10', gender='F', salary=2000),\n",
       " Row(emp_id=5, name='Brown', superior_emp_id=2, year_joined='2010', emp_dept_id='40', gender='', salary=-1),\n",
       " Row(emp_id=6, name='Brown', superior_emp_id=2, year_joined='2010', emp_dept_id='50', gender='', salary=-1)]"
      ]
     },
     "execution_count": 91,
     "metadata": {},
     "output_type": "execute_result"
    }
   ],
   "source": [
    "empDF.createOrReplaceTempView(\"empDF\")\n",
    "df2 = spark.sql(\"SELECT * from empDF\")\n",
    "df2.collect()"
   ]
  },
  {
   "cell_type": "code",
   "execution_count": 98,
   "id": "b73734fc-a5cf-4176-a61f-9b9035b9a167",
   "metadata": {
    "tags": []
   },
   "outputs": [
    {
     "name": "stderr",
     "output_type": "stream",
     "text": [
      "[Stage 93:===========================================>              (3 + 1) / 4]\r"
     ]
    },
    {
     "name": "stdout",
     "output_type": "stream",
     "text": [
      "+---------+-----------+\n",
      "|dept_name|avg(salary)|\n",
      "+---------+-----------+\n",
      "|  Finance|     2000.0|\n",
      "|Marketing|     4000.0|\n",
      "+---------+-----------+\n",
      "\n"
     ]
    },
    {
     "name": "stderr",
     "output_type": "stream",
     "text": [
      "                                                                                \r"
     ]
    }
   ],
   "source": [
    "# Traeme tdoos los departamentos cuyo promedio de salarios >3000\n",
    "df3.createOrReplaceTempView(\"empDF\")\n",
    "salary = spark.sql(\"SELECT dept_name, AVG(salary) from empDF group by dept_name having AVG(salary)>=1000\")\n",
    "salary.show()\n",
    " "
   ]
  },
  {
   "cell_type": "code",
   "execution_count": 105,
   "id": "1b5995d4-2fed-464d-aa3a-d57c5c326cb4",
   "metadata": {
    "tags": []
   },
   "outputs": [
    {
     "name": "stderr",
     "output_type": "stream",
     "text": [
      "[Stage 129:>                                                        (0 + 4) / 4]\r"
     ]
    },
    {
     "name": "stdout",
     "output_type": "stream",
     "text": [
      "+---------+-----------+\n",
      "|dept_name|sum(salary)|\n",
      "+---------+-----------+\n",
      "|  Finance|       6000|\n",
      "|Marketing|       4000|\n",
      "|       IT|         -1|\n",
      "+---------+-----------+\n",
      "\n"
     ]
    },
    {
     "name": "stderr",
     "output_type": "stream",
     "text": [
      "                                                                                \r"
     ]
    }
   ],
   "source": [
    "inner_df.createOrReplaceTempView(\"empDF\")\n",
    "salary = spark.sql(\"SELECT dept_name, SUM(salary) from empDF group by dept_name\")\n",
    "salary.show()"
   ]
  },
  {
   "cell_type": "code",
   "execution_count": null,
   "id": "f60f9300-0b23-489a-a102-86d47c9e03a0",
   "metadata": {},
   "outputs": [],
   "source": [
    "# Funciones de agregacion ---> sum, avg,count\n",
    "#Para aplicar condiciones a funciones de agregación también se peude utilizar el having\n",
    "# WHERE --> condición a registros individuales (antes de hacer un group by)\n"
   ]
  },
  {
   "cell_type": "code",
   "execution_count": 110,
   "id": "8284a373-bf4c-4e83-80d1-a6784bbab8cc",
   "metadata": {
    "tags": []
   },
   "outputs": [
    {
     "name": "stderr",
     "output_type": "stream",
     "text": [
      "[Stage 165:>                                                        (0 + 4) / 4]\r"
     ]
    },
    {
     "name": "stdout",
     "output_type": "stream",
     "text": [
      "+---------+------------+\n",
      "|dept_name|Women_Salary|\n",
      "+---------+------------+\n",
      "|  Finance|        2000|\n",
      "+---------+------------+\n",
      "\n"
     ]
    },
    {
     "name": "stderr",
     "output_type": "stream",
     "text": [
      "                                                                                \r"
     ]
    }
   ],
   "source": [
    "inner_df.createOrReplaceTempView(\"inner_df\")\n",
    "salary = spark.sql(\"SELECT dept_name, SUM(salary) as Women_Salary from inner_df WHERE gender= 'F' group by dept_name\")\n",
    "salary.show()"
   ]
  },
  {
   "cell_type": "markdown",
   "id": "1fd27dba-ca1e-423b-8384-c2bc984b1bba",
   "metadata": {},
   "source": [
    "# Join on multiple DataFrames"
   ]
  },
  {
   "cell_type": "markdown",
   "id": "64e7d76d-9fc5-4e7f-a8ba-b73b1ad635cb",
   "metadata": {
    "tags": []
   },
   "source": [
    "\n",
    "df1.join(df2,df1.id1 == df2.id2,\"inner\") \\\n",
    "   .join(df3,df1.id1 == df3.id3,\"inner\")\n",
    "   \n",
    "#_Este se puede correr caundo tienes 4 o más dataframes\n"
   ]
  },
  {
   "cell_type": "code",
   "execution_count": null,
   "id": "026cff08-aa37-424d-be2b-857ffc9d61bd",
   "metadata": {},
   "outputs": [],
   "source": []
  }
 ],
 "metadata": {
  "kernelspec": {
   "display_name": "Python 3 (ipykernel)",
   "language": "python",
   "name": "python3"
  },
  "language_info": {
   "codemirror_mode": {
    "name": "ipython",
    "version": 3
   },
   "file_extension": ".py",
   "mimetype": "text/x-python",
   "name": "python",
   "nbconvert_exporter": "python",
   "pygments_lexer": "ipython3",
   "version": "3.10.9"
  }
 },
 "nbformat": 4,
 "nbformat_minor": 5
}
